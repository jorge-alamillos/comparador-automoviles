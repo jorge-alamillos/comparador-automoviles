{
 "cells": [
  {
   "cell_type": "markdown",
   "metadata": {},
   "source": [
    "# Project 2: RastreAmazon"
   ]
  },
  {
   "cell_type": "code",
   "execution_count": 1,
   "metadata": {},
   "outputs": [],
   "source": [
    "import app_moviles as finder\n",
    "import pandas as pd\n",
    "import seaborn as sns\n",
    "import matplotlib.pyplot as plt"
   ]
  },
  {
   "cell_type": "markdown",
   "metadata": {},
   "source": [
    "### Soy el típico amigo al que todos preguntan sobre cosas de electrónica. Esta vez, un amigo me pregunta por qué movil comprar con  mejor relación calidad-precio. Debido a que esta pregunta se repite a menudo, decido crear una query que devuelva, en función del presupuesto de la persona, el  móvil vendido en Amazon con  mejor relación calidad-precio."
   ]
  },
  {
   "cell_type": "markdown",
   "metadata": {},
   "source": [
    "#### La marca que más moviles ha vendido en Amazon es Samsung. Casi la mitad de los móviles vendidos son de dicha marca\n",
    "\n",
    "<img src=\"output/images/bestseller_brand_table.png\" align=\"left\"/><img src=\"output/images/bestseller_brand.png\" align=\"center\"/>\n",
    "\n"
   ]
  },
  {
   "cell_type": "markdown",
   "metadata": {},
   "source": [
    "#### Sin embargo, el móvil más vendido es un Nokia\n",
    "\n",
    "<img src=\"output/images/bestseller_model_table.png\" align=\"left\"/><img src=\"output/images/bestseller_model.png\" align=\"center\"/>\n"
   ]
  },
  {
   "cell_type": "markdown",
   "metadata": {},
   "source": [
    "#### Por otra parte, la marca con mayor satisfacción media de sus clientes es Xiaomi, con un clara diferencia sobre el segundo\n",
    "\n",
    "<img src=\"output/images/satisfaccion_marca_tabla.png\" align=\"left\"/><img src=\"output/images/Satisfacción_por_marca.png\" align=\"center\"/>\n"
   ]
  },
  {
   "cell_type": "markdown",
   "metadata": {},
   "source": [
    " #### El modelo que mayor calidad ofrece por euro es el  Motorola Verizon\n",
    " <img src=\"output/images/satisfaction_model_table.png\" align=\"left\"/><img src=\"output/images/satisfaction_model.png\" align=\"center\"/>\n"
   ]
  },
  {
   "cell_type": "markdown",
   "metadata": {},
   "source": [
    " #### Por ultimo, mostramos la dispersión del rating y el precio por marcas\n",
    " <img src=\"output/images/statistics_brand.png\" align=\"left\"/>"
   ]
  },
  {
   "cell_type": "markdown",
   "metadata": {},
   "source": [
    "# RastreAmazon\n",
    "#### Mediante un sofisticado algoritmo, la aplicación AmazonFinder le ayudará a elegir el teléfono adecuado para tu presupuesto\n",
    "<img src=\"output/images/doggy.png\" align=\"left\"/>"
   ]
  },
  {
   "cell_type": "code",
   "execution_count": 6,
   "metadata": {
    "scrolled": false
   },
   "outputs": [
    {
     "name": "stdout",
     "output_type": "stream",
     "text": [
      "What is you max budget?\n",
      "200\n",
      "And your min budget? (Insert 0 if you do not have a minimun budget)\n",
      "100\n"
     ]
    },
    {
     "data": {
      "text/html": [
       "<div>\n",
       "<style scoped>\n",
       "    .dataframe tbody tr th:only-of-type {\n",
       "        vertical-align: middle;\n",
       "    }\n",
       "\n",
       "    .dataframe tbody tr th {\n",
       "        vertical-align: top;\n",
       "    }\n",
       "\n",
       "    .dataframe thead th {\n",
       "        text-align: right;\n",
       "    }\n",
       "</style>\n",
       "<table border=\"1\" class=\"dataframe\">\n",
       "  <thead>\n",
       "    <tr style=\"text-align: right;\">\n",
       "      <th></th>\n",
       "      <th>Brand</th>\n",
       "      <th>Model</th>\n",
       "      <th>Price</th>\n",
       "      <th>rating</th>\n",
       "    </tr>\n",
       "  </thead>\n",
       "  <tbody>\n",
       "    <tr>\n",
       "      <th>0</th>\n",
       "      <td>HUAWEI</td>\n",
       "      <td>Huawei Y7 2019 DUB-L</td>\n",
       "      <td>149.99</td>\n",
       "      <td>5.0</td>\n",
       "    </tr>\n",
       "    <tr>\n",
       "      <th>1</th>\n",
       "      <td>Motorola</td>\n",
       "      <td>Moto Z3 Play - Unloc</td>\n",
       "      <td>189.95</td>\n",
       "      <td>5.0</td>\n",
       "    </tr>\n",
       "    <tr>\n",
       "      <th>2</th>\n",
       "      <td>Apple</td>\n",
       "      <td>Apple iPad Air MF003</td>\n",
       "      <td>166.19</td>\n",
       "      <td>5.0</td>\n",
       "    </tr>\n",
       "    <tr>\n",
       "      <th>3</th>\n",
       "      <td>Xiaomi</td>\n",
       "      <td>Xiaomi Redmi 8A (32G</td>\n",
       "      <td>112.98</td>\n",
       "      <td>5.0</td>\n",
       "    </tr>\n",
       "    <tr>\n",
       "      <th>4</th>\n",
       "      <td>Samsung</td>\n",
       "      <td>Samsung Galaxy J7 V</td>\n",
       "      <td>119.95</td>\n",
       "      <td>5.0</td>\n",
       "    </tr>\n",
       "    <tr>\n",
       "      <th>5</th>\n",
       "      <td>Xiaomi</td>\n",
       "      <td>Xiaomi Redmi S2 (32G</td>\n",
       "      <td>139.99</td>\n",
       "      <td>5.0</td>\n",
       "    </tr>\n",
       "    <tr>\n",
       "      <th>6</th>\n",
       "      <td>Motorola</td>\n",
       "      <td>Motorola Moto E6 Plu</td>\n",
       "      <td>134.98</td>\n",
       "      <td>5.0</td>\n",
       "    </tr>\n",
       "    <tr>\n",
       "      <th>7</th>\n",
       "      <td>Motorola</td>\n",
       "      <td>Motorola Moto E5 Cru</td>\n",
       "      <td>116.70</td>\n",
       "      <td>5.0</td>\n",
       "    </tr>\n",
       "    <tr>\n",
       "      <th>8</th>\n",
       "      <td>Motorola</td>\n",
       "      <td>Motorola Moto Z3 Pla</td>\n",
       "      <td>149.99</td>\n",
       "      <td>5.0</td>\n",
       "    </tr>\n",
       "    <tr>\n",
       "      <th>9</th>\n",
       "      <td>Samsung</td>\n",
       "      <td>Samsung Galaxy S6 Ed</td>\n",
       "      <td>129.95</td>\n",
       "      <td>5.0</td>\n",
       "    </tr>\n",
       "  </tbody>\n",
       "</table>\n",
       "</div>"
      ],
      "text/plain": [
       "      Brand                 Model   Price  rating\n",
       "0    HUAWEI  Huawei Y7 2019 DUB-L  149.99     5.0\n",
       "1  Motorola  Moto Z3 Play - Unloc  189.95     5.0\n",
       "2     Apple  Apple iPad Air MF003  166.19     5.0\n",
       "3    Xiaomi  Xiaomi Redmi 8A (32G  112.98     5.0\n",
       "4   Samsung  Samsung Galaxy J7 V   119.95     5.0\n",
       "5    Xiaomi  Xiaomi Redmi S2 (32G  139.99     5.0\n",
       "6  Motorola  Motorola Moto E6 Plu  134.98     5.0\n",
       "7  Motorola  Motorola Moto E5 Cru  116.70     5.0\n",
       "8  Motorola  Motorola Moto Z3 Pla  149.99     5.0\n",
       "9   Samsung  Samsung Galaxy S6 Ed  129.95     5.0"
      ]
     },
     "metadata": {},
     "output_type": "display_data"
    },
    {
     "name": "stdout",
     "output_type": "stream",
     "text": [
      "Taking your budget, we recommend you to buy this model:Xiaomi Redmi 8A (32GB, 2GB RAM) 6.22\" HD Displ...\n",
      "Find the purchase link here:3    https://www.amazon.com/Xiaomi-Display-Snapdrag...\n",
      "Name: url, dtype: object\n"
     ]
    },
    {
     "data": {
      "image/png": "[encoded data removed]",
      "text/plain": [
       "<Figure size 864x360 with 2 Axes>"
      ]
     },
     "metadata": {
      "needs_background": "light"
     },
     "output_type": "display_data"
    }
   ],
   "source": [
    "finder.bestPhone()"
   ]
  },
  {
   "cell_type": "code",
   "execution_count": null,
   "metadata": {},
   "outputs": [],
   "source": []
  }
 ],
 "metadata": {
  "kernelspec": {
   "display_name": "Python 3",
   "language": "python",
   "name": "python3"
  },
  "language_info": {
   "codemirror_mode": {
    "name": "ipython",
    "version": 3
   },
   "file_extension": ".py",
   "mimetype": "text/x-python",
   "name": "python",
   "nbconvert_exporter": "python",
   "pygments_lexer": "ipython3",
   "version": "3.8.2"
  }
 },
 "nbformat": 4,
 "nbformat_minor": 4
}
